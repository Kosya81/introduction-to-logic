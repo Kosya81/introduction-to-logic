{
 "cells": [
  {
   "cell_type": "markdown",
   "id": "430c2c3e",
   "metadata": {},
   "source": [
    "# Упражнение 1.6\n",
    "\n",
    "Рассмотрим приведённые ниже высказывания:\n",
    "\n",
    "<p style=\"align: center; padding-left: 25%;\">\n",
    "<i>\n",
    "Каждому кто-то нравится.<br>\n",
    "Бэлле нравятся все, кто нравится Ане.<br>\n",
    "Бэлле не нравится Галя.<br>\n",
    "Никто не нравится сам себе.\n",
    "</i>\n",
    "</p>\n",
    "\n",
    "Укажите, следует ли каждое из следующих утверждений логически из этих предложений."
   ]
  },
  {
   "cell_type": "code",
   "execution_count": 1,
   "id": "65d96d83",
   "metadata": {
    "tags": [
     "remove-input"
    ]
   },
   "outputs": [
    {
     "data": {
      "text/html": [
       "\n",
       "<div class=\"questions-container\">\n",
       "\n",
       "    <div class=\"question-block\" data-correct-answer=\"true\">\n",
       "        <p class=\"question-text\">Ане нравится Вика.</p>\n",
       "        <div class=\"buttons\">\n",
       "            <button class=\"answer-button\" onclick=\"exerciseManager.checkAnswer('True', true, 'Ане нравится Вика.')\">Следует</button>\n",
       "            <button class=\"answer-button\" onclick=\"exerciseManager.checkAnswer('True', false, 'Ане нравится Вика.')\">Не следует</button>\n",
       "        </div>\n",
       "        <div id=\"result_Ане нравится Вика.\" class=\"result-text\"></div>\n",
       "    </div>\n",
       "    \n",
       "    <div class=\"question-block\" data-correct-answer=\"false\">\n",
       "        <p class=\"question-text\">Бэлле нравится Аня.</p>\n",
       "        <div class=\"buttons\">\n",
       "            <button class=\"answer-button\" onclick=\"exerciseManager.checkAnswer('False', true, 'Бэлле нравится Аня.')\">Следует</button>\n",
       "            <button class=\"answer-button\" onclick=\"exerciseManager.checkAnswer('False', false, 'Бэлле нравится Аня.')\">Не следует</button>\n",
       "        </div>\n",
       "        <div id=\"result_Бэлле нравится Аня.\" class=\"result-text\"></div>\n",
       "    </div>\n",
       "    \n",
       "    <div class=\"question-block\" data-correct-answer=\"false\">\n",
       "        <p class=\"question-text\">Бэлле не нравится Аня.</p>\n",
       "        <div class=\"buttons\">\n",
       "            <button class=\"answer-button\" onclick=\"exerciseManager.checkAnswer('False', true, 'Бэлле не нравится Аня.')\">Следует</button>\n",
       "            <button class=\"answer-button\" onclick=\"exerciseManager.checkAnswer('False', false, 'Бэлле не нравится Аня.')\">Не следует</button>\n",
       "        </div>\n",
       "        <div id=\"result_Бэлле не нравится Аня.\" class=\"result-text\"></div>\n",
       "    </div>\n",
       "    \n",
       "    <div class=\"question-block\" data-correct-answer=\"true\">\n",
       "        <p class=\"question-text\">Нет никого, кому  нравятся все.</p>\n",
       "        <div class=\"buttons\">\n",
       "            <button class=\"answer-button\" onclick=\"exerciseManager.checkAnswer('True', true, 'Нет никого, кому  нравятся все.')\">Следует</button>\n",
       "            <button class=\"answer-button\" onclick=\"exerciseManager.checkAnswer('True', false, 'Нет никого, кому  нравятся все.')\">Не следует</button>\n",
       "        </div>\n",
       "        <div id=\"result_Нет никого, кому  нравятся все.\" class=\"result-text\"></div>\n",
       "    </div>\n",
       "    \n",
       "</div>\n",
       "<div class=\"exercise-stats\">\n",
       "    <div class=\"stats-text\">Правильных ответов: <span id=\"correct-count\">0</span> из 3</div>\n",
       "    <div class=\"buttons-container\">\n",
       "        <button class=\"show-answers-button\" onclick=\"exerciseManager.showAnswers()\">Показать ответы</button>\n",
       "        <button class=\"reset-button\" onclick=\"exerciseManager.reset()\">Сбросить ответы</button>\n",
       "    </div>\n",
       "</div>\n",
       "\n",
       "<script>\n",
       "    exerciseManager.init([('Ане нравится Вика.', True), ('Бэлле нравится Аня.', False), ('Бэлле не нравится Аня.', False), ('Нет никого, кому  нравятся все.', True)]);\n",
       "</script>\n"
      ],
      "text/plain": [
       "<IPython.core.display.HTML object>"
      ]
     },
     "metadata": {},
     "output_type": "display_data"
    }
   ],
   "source": [
    "from IPython.display import display, HTML\n",
    "\n",
    "# Утверждения и правильные ответы\n",
    "statements = [\n",
    "    (\"Ане нравится Вика.\", True),\n",
    "    (\"Бэлле нравится Аня.\", False),\n",
    "    (\"Бэлле не нравится Аня.\", False),\n",
    "    (\"Нет никого, кому  нравятся все.\", True),\n",
    "]\n",
    "\n",
    "# Создаём HTML с кнопками и проверками\n",
    "def create_interactive_question(text, correct):\n",
    "    return f\"\"\"\n",
    "    <div class=\"question-block\" data-correct-answer=\"{str(correct).lower()}\">\n",
    "        <p class=\"question-text\">{text}</p>\n",
    "        <div class=\"buttons\">\n",
    "            <button class=\"answer-button\" onclick=\"exerciseManager.checkAnswer('{correct}', true, '{text}')\">Следует</button>\n",
    "            <button class=\"answer-button\" onclick=\"exerciseManager.checkAnswer('{correct}', false, '{text}')\">Не следует</button>\n",
    "        </div>\n",
    "        <div id=\"result_{text}\" class=\"result-text\"></div>\n",
    "    </div>\n",
    "    \"\"\"\n",
    "\n",
    "# Составляем HTML для всех утверждений\n",
    "questions_html = \"\"\"\n",
    "<div class=\"questions-container\">\n",
    "\"\"\"\n",
    "\n",
    "for text, correct in statements:\n",
    "    questions_html += create_interactive_question(text, correct)\n",
    "\n",
    "questions_html += \"\"\"\n",
    "</div>\n",
    "<div class=\"exercise-stats\">\n",
    "    <div class=\"stats-text\">Правильных ответов: <span id=\"correct-count\">0</span> из 3</div>\n",
    "    <div class=\"buttons-container\">\n",
    "        <button class=\"show-answers-button\" onclick=\"exerciseManager.showAnswers()\">Показать ответы</button>\n",
    "        <button class=\"reset-button\" onclick=\"exerciseManager.reset()\">Сбросить ответы</button>\n",
    "    </div>\n",
    "</div>\n",
    "\"\"\"\n",
    "\n",
    "# Инициализируем менеджер упражнений\n",
    "init_script = f\"\"\"\n",
    "<script>\n",
    "    exerciseManager.init({statements});\n",
    "</script>\n",
    "\"\"\"\n",
    "\n",
    "# Отображаем вопросы\n",
    "display(HTML(questions_html + init_script))"
   ]
  }
 ],
 "metadata": {
  "jupytext": {
   "text_representation": {
    "format_name": "myst",
    "format_version": "0.13",
    "jupytext_version": "1.14.4"
   }
  },
  "kernelspec": {
   "display_name": "Python 3",
   "language": "python",
   "name": "python3"
  },
  "language_info": {
   "codemirror_mode": {
    "name": "ipython",
    "version": 3
   },
   "file_extension": ".py",
   "mimetype": "text/x-python",
   "name": "python",
   "nbconvert_exporter": "python",
   "pygments_lexer": "ipython3",
   "version": "3.9.5"
  },
  "source_map": [
   11,
   28
  ]
 },
 "nbformat": 4,
 "nbformat_minor": 5
}