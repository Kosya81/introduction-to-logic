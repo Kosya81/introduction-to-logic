{
 "cells": [
  {
   "cell_type": "markdown",
   "id": "8a156249",
   "metadata": {},
   "source": [
    "# Упражнение 1.4\n",
    "\n",
    "Это упражнение посвящено межличностным отношениям в небольшом женском клубе. В клубе всего четыре участницы — Аня, Бэлла, Вика и Галя; и существует только один тип бинарного отношения — «нравится». В таблице ниже показано, кто кому нравится. Галочка в ячейке таблицы означает, что девушка, имя которой указано в начале строки, испытывает симпатию к девушке, имя которой указано в заголовке столбца; отсутствие галочки означает, что симпатии нет.  \n",
    "Вы можете добавить отношение, щёлкнув по пустой ячейке таблицы; вы можете удалить отношение, щёлкнув по ячейке с галочкой.\n",
    "\n",
    "<div class=\"table-container\">\n",
    "  <div style=\"text-align: center;\">\n",
    "    <div style=\"display: inline-block;\">\n",
    "      <table border=\"1\" cellpadding=\"5\" cellspacing=\"0\" style=\"border-collapse: collapse;\">\n",
    "        <thead>\n",
    "          <tr>\n",
    "            <th></th>\n",
    "            <th>Аня</th>\n",
    "            <th>Бэлла</th>\n",
    "            <th>Вика</th>\n",
    "            <th>Галя</th>\n",
    "          </tr>\n",
    "        </thead>\n",
    "        <tbody>\n",
    "          <tr>\n",
    "            <td>Аня</td>\n",
    "            <td></td>\n",
    "            <td>✔️</td>\n",
    "            <td></td>\n",
    "            <td>✔️</td>\n",
    "          </tr>\n",
    "          <tr>\n",
    "            <td>Бэлла</td>\n",
    "            <td>✔️</td>\n",
    "            <td></td>\n",
    "            <td>✔️</td>\n",
    "            <td></td>\n",
    "          </tr>\n",
    "          <tr>\n",
    "            <td>Вика</td>\n",
    "            <td></td>\n",
    "            <td>✔️</td>\n",
    "            <td></td>\n",
    "            <td>✔️</td>\n",
    "          </tr>\n",
    "          <tr>\n",
    "            <td>Галя</td>\n",
    "            <td>✔️</td>\n",
    "            <td></td>\n",
    "            <td>✔️</td>\n",
    "            <td></td>\n",
    "          </tr>\n",
    "        </tbody>\n",
    "      </table>\n",
    "    </div>\n",
    "  </div>\n",
    "</div>\n",
    "\n",
    "Предложения в таблице ниже описывают некоторые отношения между девушками, с указанием того, являются ли они истинными или ложными в мире, изображённом в первой таблице. По мере изменения этого мира значения истинности предложений пересчитываются и отображаются в этой таблице.  \n",
    "Попробуйте сделать так, чтобы все предложения стали истинными. Обратите внимание, что этого можно добиться несколькими способами."
   ]
  },
  {
   "cell_type": "code",
   "execution_count": 1,
   "id": "4f40576f",
   "metadata": {
    "tags": [
     "remove-input"
    ]
   },
   "outputs": [],
   "source": [
    "from IPython.display import display, HTML\n",
    "\n",
    "# Утверждения\n",
    "statements = [\n",
    "    (\"Гале нравится Вика.\"),\n",
    "    (\"Ане на нравится Галя\"),\n",
    "    (\"Бэлле нравится Вика или Галя.\"),\n",
    "    (\"Ане нравятся те же, кто и Бэлле.\"),\n",
    "    (\"Вике нравятся те же, кому и она сама.\"),\n",
    "    (\"Никто не нравится сам себе\")\n",
    "]"
   ]
  }
 ],
 "metadata": {
  "jupytext": {
   "text_representation": {
    "format_name": "myst",
    "format_version": "0.13",
    "jupytext_version": "1.14.4"
   }
  },
  "kernelspec": {
   "display_name": "Python 3",
   "language": "python",
   "name": "python3"
  },
  "language_info": {
   "codemirror_mode": {
    "name": "ipython",
    "version": 3
   },
   "file_extension": ".py",
   "mimetype": "text/x-python",
   "name": "python",
   "nbconvert_exporter": "python",
   "pygments_lexer": "ipython3",
   "version": "3.9.5"
  },
  "source_map": [
   11,
   69
  ]
 },
 "nbformat": 4,
 "nbformat_minor": 5
}